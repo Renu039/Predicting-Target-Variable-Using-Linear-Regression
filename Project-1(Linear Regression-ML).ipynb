{
 "cells": [
  {
   "cell_type": "markdown",
   "id": "835a155b-90b1-46ca-b32c-396b630194a3",
   "metadata": {},
   "source": [
    "# Import The Libraries"
   ]
  },
  {
   "cell_type": "code",
   "execution_count": 1,
   "id": "3573c27f-ba74-4bc5-bb81-fbd949be461e",
   "metadata": {},
   "outputs": [],
   "source": [
    "import numpy as np\n",
    "import pandas as pd\n",
    "import matplotlib.pyplot as plt\n",
    "import seaborn as sns"
   ]
  },
  {
   "cell_type": "markdown",
   "id": "9e3f58fb-352f-4448-9697-2e30565a6fcd",
   "metadata": {},
   "source": [
    "### Loading Our Dataset"
   ]
  },
  {
   "cell_type": "code",
   "execution_count": 2,
   "id": "a07764ee-6c3f-48ac-a20f-e7ca49d9d84e",
   "metadata": {},
   "outputs": [],
   "source": [
    "data = pd.read_csv(\"https://raw.githubusercontent.com/sukhioo7/dataset/refs/heads/main/Salary_Data.csv?raw=True\")"
   ]
  },
  {
   "cell_type": "code",
   "execution_count": 3,
   "id": "8ef2aa15-0437-4e75-981b-ae45e35a38dc",
   "metadata": {},
   "outputs": [
    {
     "data": {
      "text/html": [
       "<div>\n",
       "<style scoped>\n",
       "    .dataframe tbody tr th:only-of-type {\n",
       "        vertical-align: middle;\n",
       "    }\n",
       "\n",
       "    .dataframe tbody tr th {\n",
       "        vertical-align: top;\n",
       "    }\n",
       "\n",
       "    .dataframe thead th {\n",
       "        text-align: right;\n",
       "    }\n",
       "</style>\n",
       "<table border=\"1\" class=\"dataframe\">\n",
       "  <thead>\n",
       "    <tr style=\"text-align: right;\">\n",
       "      <th></th>\n",
       "      <th>YearsExperience</th>\n",
       "      <th>Salary</th>\n",
       "    </tr>\n",
       "  </thead>\n",
       "  <tbody>\n",
       "    <tr>\n",
       "      <th>0</th>\n",
       "      <td>1.1</td>\n",
       "      <td>39343.0</td>\n",
       "    </tr>\n",
       "    <tr>\n",
       "      <th>1</th>\n",
       "      <td>1.3</td>\n",
       "      <td>46205.0</td>\n",
       "    </tr>\n",
       "    <tr>\n",
       "      <th>2</th>\n",
       "      <td>1.5</td>\n",
       "      <td>37731.0</td>\n",
       "    </tr>\n",
       "    <tr>\n",
       "      <th>3</th>\n",
       "      <td>2.0</td>\n",
       "      <td>43525.0</td>\n",
       "    </tr>\n",
       "    <tr>\n",
       "      <th>4</th>\n",
       "      <td>2.2</td>\n",
       "      <td>39891.0</td>\n",
       "    </tr>\n",
       "  </tbody>\n",
       "</table>\n",
       "</div>"
      ],
      "text/plain": [
       "   YearsExperience   Salary\n",
       "0              1.1  39343.0\n",
       "1              1.3  46205.0\n",
       "2              1.5  37731.0\n",
       "3              2.0  43525.0\n",
       "4              2.2  39891.0"
      ]
     },
     "execution_count": 3,
     "metadata": {},
     "output_type": "execute_result"
    }
   ],
   "source": [
    "data.head()"
   ]
  },
  {
   "cell_type": "markdown",
   "id": "ac6b85c5-7900-437c-9536-c1832138bb8c",
   "metadata": {},
   "source": [
    "### Checking The  Null Values"
   ]
  },
  {
   "cell_type": "code",
   "execution_count": null,
   "id": "e9893b70-222e-49aa-a872-1e7b118b613b",
   "metadata": {},
   "outputs": [],
   "source": [
    "data.isnull().sum()"
   ]
  },
  {
   "cell_type": "markdown",
   "id": "ce065873-3c21-4ed4-8549-53f3acd6c819",
   "metadata": {},
   "source": [
    "### Checking The Info Our Data"
   ]
  },
  {
   "cell_type": "code",
   "execution_count": null,
   "id": "93f6b19f-28d2-4dc1-b1c1-7106e9218e92",
   "metadata": {},
   "outputs": [],
   "source": [
    "data.info()"
   ]
  },
  {
   "cell_type": "markdown",
   "id": "deb6b7c5-67d7-40d5-bf35-98ff3b71960e",
   "metadata": {},
   "source": [
    "## Plotting The Scatterplot"
   ]
  },
  {
   "cell_type": "code",
   "execution_count": null,
   "id": "c1c03bed-05ef-41b8-ad2d-c107136a4f1e",
   "metadata": {},
   "outputs": [],
   "source": [
    "plt.figure(figsize=(15,7))\n",
    "sns.scatterplot(x=data['YearsExperience'],y=data['Salary'])\n",
    "plt.title('Year of Experince V/S Salary')\n",
    "plt.xlabel('Year of Experince')\n",
    "plt.ylabel('Salary')\n",
    "plt.show()"
   ]
  },
  {
   "cell_type": "markdown",
   "id": "df4990be-a23b-4b59-8236-49955fb32d59",
   "metadata": {},
   "source": [
    "## Plotting The BoxPlot"
   ]
  },
  {
   "cell_type": "code",
   "execution_count": null,
   "id": "5192c08d-742c-43b8-8e57-83e836936b97",
   "metadata": {},
   "outputs": [],
   "source": [
    "plt.figure(figsize=(12,7))\n",
    "sns.boxplot(y=data['Salary'])\n",
    "plt.title('Salary Boxplot Outlier Detection')\n",
    "plt.show()"
   ]
  },
  {
   "cell_type": "markdown",
   "id": "4225fc84-16c3-4533-9260-3e57b0289cba",
   "metadata": {},
   "source": [
    "## Plotting The Histplot"
   ]
  },
  {
   "cell_type": "code",
   "execution_count": null,
   "id": "f3d170b8-88ae-4385-b509-01a3bf83f65f",
   "metadata": {},
   "outputs": [],
   "source": [
    "plt.figure(figsize=(13,7))\n",
    "sns.histplot(data['Salary'],bins=10,kde=True)\n",
    "plt.title(\"Salary Distribution\")\n",
    "plt.xlabel(\"Salary\")\n",
    "plt.ylabel(\"Frequency\")\n",
    "plt.show() "
   ]
  },
  {
   "cell_type": "markdown",
   "id": "7e788592-b3aa-4c3d-be2b-4fc7cd87d965",
   "metadata": {},
   "source": [
    "# Splitting Our Data Into Training And Testing"
   ]
  },
  {
   "cell_type": "code",
   "execution_count": null,
   "id": "6a0d667d-6401-4924-b991-f77454472633",
   "metadata": {},
   "outputs": [],
   "source": [
    "X = data[['YearsExperience']]\n",
    "Y = data['Salary']"
   ]
  },
  {
   "cell_type": "code",
   "execution_count": null,
   "id": "a1fc0c08-70c5-45ed-835d-0d54289b1ef9",
   "metadata": {},
   "outputs": [],
   "source": [
    "from sklearn.model_selection import train_test_split\n",
    "\n",
    "X_train,X_test,Y_train,Y_test = train_test_split(X,Y,test_size=0.2,random_state=101)"
   ]
  },
  {
   "cell_type": "markdown",
   "id": "68c8c8e7-7497-4525-af10-b3ef7b14532a",
   "metadata": {},
   "source": [
    "# Applying Linear Regression"
   ]
  },
  {
   "cell_type": "code",
   "execution_count": null,
   "id": "d0cc2c55-632d-4d05-b7ba-794dcd1276b7",
   "metadata": {},
   "outputs": [],
   "source": [
    "from sklearn.linear_model import LinearRegression\n",
    "\n",
    "linear_regression = LinearRegression()"
   ]
  },
  {
   "cell_type": "markdown",
   "id": "040fdc23-ed17-4d45-87f3-69679f02820d",
   "metadata": {},
   "source": [
    "## Fitting The Model"
   ]
  },
  {
   "cell_type": "code",
   "execution_count": null,
   "id": "c056d984-4e56-4969-bd10-b467cd675d4c",
   "metadata": {},
   "outputs": [],
   "source": [
    "linear_regression.fit(X_train, Y_train)"
   ]
  },
  {
   "cell_type": "markdown",
   "id": "4057ceb5-a78c-488f-a94e-968d9e9a5f00",
   "metadata": {},
   "source": [
    "# Making Prediction"
   ]
  },
  {
   "cell_type": "code",
   "execution_count": null,
   "id": "9fd80856-91f6-4b04-a100-055dabb258f1",
   "metadata": {},
   "outputs": [],
   "source": [
    "prediction = linear_regression.predict(X_test)\n",
    "\n",
    "print(\"Predicted Salaries:\",prediction)"
   ]
  },
  {
   "cell_type": "code",
   "execution_count": null,
   "id": "9651583e-9615-4909-a69c-babf75a43708",
   "metadata": {},
   "outputs": [],
   "source": [
    "# Y_test"
   ]
  },
  {
   "cell_type": "markdown",
   "id": "8e77901e-787c-4aa4-a884-53dc87d3251b",
   "metadata": {},
   "source": [
    "## Evaluate The Model"
   ]
  },
  {
   "cell_type": "code",
   "execution_count": null,
   "id": "f85b1c89-3083-4368-87e7-e30e0dce6c0c",
   "metadata": {},
   "outputs": [],
   "source": [
    "from sklearn.metrics import mean_squared_error,mean_absolute_error,r2_score\n",
    "\n",
    "mae = mean_absolute_error(Y_test,prediction)\n",
    "mse = mean_squared_error(Y_test,prediction)\n",
    "np.sqrt(mse)\n",
    "r2 = r2_score(Y_test,prediction)\n",
    "\n",
    "\n",
    "print(\"Mean absolute error:\",mae)\n",
    "print(\"Mean squared error:\",mse)\n",
    "print(\"R-squared score:\",r2)"
   ]
  },
  {
   "cell_type": "markdown",
   "id": "ce1e91af-7120-4230-941f-573c3b2d1077",
   "metadata": {},
   "source": [
    "# Checking Performance Of The Model"
   ]
  },
  {
   "cell_type": "code",
   "execution_count": null,
   "id": "efd2298f-e461-40ce-b64b-a75ee8a4c12d",
   "metadata": {},
   "outputs": [],
   "source": [
    "plt.figure(figsize=(12,7))\n",
    "sns.scatterplot(x=X_test['YearsExperience'], y=Y_test, label=\"Actual Data\", color=\"blue\")\n",
    "sns.lineplot(x=X_test['YearsExperience'], y=prediction, label=\"Predicted Line\", color=\"red\")\n",
    "\n",
    "plt.xlabel(\"Years of Experience\")\n",
    "plt.ylabel(\"Salary\")\n",
    "plt.title(\"Actual vs. Predicted Salaries (Linear Regression)\")\n",
    "plt.legend()\n",
    "plt.show()"
   ]
  },
  {
   "cell_type": "code",
   "execution_count": null,
   "id": "c46a08f6-7928-4b1c-a1ed-8c0eedffc6f8",
   "metadata": {},
   "outputs": [],
   "source": []
  },
  {
   "cell_type": "code",
   "execution_count": null,
   "id": "c81a93f9-9987-45e5-b36f-cab96f293cd7",
   "metadata": {},
   "outputs": [],
   "source": []
  },
  {
   "cell_type": "code",
   "execution_count": null,
   "id": "e737a14a-02ba-4145-b2e1-135c768413f2",
   "metadata": {},
   "outputs": [],
   "source": []
  },
  {
   "cell_type": "code",
   "execution_count": null,
   "id": "35676bb5-8902-42b1-a19e-2397e9affb70",
   "metadata": {},
   "outputs": [],
   "source": []
  }
 ],
 "metadata": {
  "kernelspec": {
   "display_name": "Python 3 (ipykernel)",
   "language": "python",
   "name": "python3"
  },
  "language_info": {
   "codemirror_mode": {
    "name": "ipython",
    "version": 3
   },
   "file_extension": ".py",
   "mimetype": "text/x-python",
   "name": "python",
   "nbconvert_exporter": "python",
   "pygments_lexer": "ipython3",
   "version": "3.12.7"
  }
 },
 "nbformat": 4,
 "nbformat_minor": 5
}
